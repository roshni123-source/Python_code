{
 "cells": [
  {
   "cell_type": "markdown",
   "metadata": {},
   "source": [
    "# Strings"
   ]
  },
  {
   "cell_type": "code",
   "execution_count": 4,
   "metadata": {},
   "outputs": [
    {
     "data": {
      "text/plain": [
       "'i am learning basics of python'"
      ]
     },
     "execution_count": 4,
     "metadata": {},
     "output_type": "execute_result"
    }
   ],
   "source": [
    "# strings\n",
    "from typing import Concatenate\n",
    "\n",
    "\n",
    "a='hi how r you?'\n",
    "b='i am learning basics of python'\n",
    "b"
   ]
  },
  {
   "cell_type": "markdown",
   "metadata": {},
   "source": [
    "# Variables"
   ]
  },
  {
   "cell_type": "code",
   "execution_count": 7,
   "metadata": {},
   "outputs": [
    {
     "name": "stdout",
     "output_type": "stream",
     "text": [
      "5\n",
      "12\n"
     ]
    }
   ],
   "source": [
    "# variables: object containing specific value\n",
    "x=2+3\n",
    "# x is variable and it stores two values.\n",
    "print(x)\n",
    "x=x+7\n",
    "print(x)"
   ]
  },
  {
   "cell_type": "markdown",
   "metadata": {},
   "source": [
    "# Input function"
   ]
  },
  {
   "cell_type": "code",
   "execution_count": 17,
   "metadata": {},
   "outputs": [
    {
     "name": "stdout",
     "output_type": "stream",
     "text": [
      "hello roshni oh, great\n"
     ]
    }
   ],
   "source": [
    "# input variables\n",
    "fruit=input('what is  your name?')\n",
    "age=int(input('how old are you?'))\n",
    "gr='hello'\n",
    "print(gr,fruit,\"oh, great\")\n",
    "# f=int(input('how much fruit do you want?'))\n",
    "# ft='ok sure!'\n",
    "# print(ft,f)\n",
    "# r=float(input('tell me the range of fruits'))\n",
    "# r"
   ]
  },
  {
   "cell_type": "markdown",
   "metadata": {},
   "source": [
    "# Operators\n"
   ]
  },
  {
   "cell_type": "code",
   "execution_count": 36,
   "metadata": {},
   "outputs": [
    {
     "data": {
      "text/plain": [
       "4"
      ]
     },
     "execution_count": 36,
     "metadata": {},
     "output_type": "execute_result"
    }
   ],
   "source": [
    "# Arthimetic operators\n",
    "# + add\n",
    "#  - minus\n",
    "# * multiplication\n",
    "# / devision\n",
    "# % modulus(reminder)\n",
    "# ** exponential\n",
    "# // floor division(full number before decimal point)\n",
    "2+3\n",
    "4-4\n",
    "20903904*463762747\n",
    "321324/78778\n",
    "2**5\n",
    "321324%78778\n",
    "321324//78778"
   ]
  },
  {
   "cell_type": "code",
   "execution_count": 28,
   "metadata": {},
   "outputs": [
    {
     "name": "stdout",
     "output_type": "stream",
     "text": [
      "True\n",
      "True\n",
      "False\n",
      "True\n",
      "False\n",
      "True\n"
     ]
    }
   ],
   "source": [
    "# Comparsion operators\n",
    "# equal to ==\n",
    "# greater than >\n",
    "# less than <\n",
    "# not equal !=\n",
    "# greater or equal to >=\n",
    "# less or eequal to <=\n",
    "\n",
    "print(0==0)\n",
    "print(4>3)\n",
    "print(5>7)\n",
    "print(1!=3)\n",
    "print(3<=2)\n",
    "print(3>=2)"
   ]
  },
  {
   "cell_type": "code",
   "execution_count": 40,
   "metadata": {},
   "outputs": [
    {
     "data": {
      "text/plain": [
       "5"
      ]
     },
     "execution_count": 40,
     "metadata": {},
     "output_type": "execute_result"
    }
   ],
   "source": [
    "# Assignment operators\n",
    "# +=\n",
    "# -=\n",
    "# *=\n",
    "# /=\n",
    "x=2\n",
    "# x=x+3\n",
    "# x\n",
    "# or \n",
    "x+=3\n",
    "x          # both are same\n"
   ]
  },
  {
   "cell_type": "code",
   "execution_count": 47,
   "metadata": {},
   "outputs": [
    {
     "name": "stdout",
     "output_type": "stream",
     "text": [
      "False\n",
      "True\n"
     ]
    },
    {
     "data": {
      "text/plain": [
       "False"
      ]
     },
     "execution_count": 47,
     "metadata": {},
     "output_type": "execute_result"
    }
   ],
   "source": [
    "# logical operators\n",
    "# and \n",
    "# or\n",
    "# not\n",
    "x=10\n",
    "print(x==10 and x<9)\n",
    "print(x==10 or x<9)\n",
    "not(x==10 or x<9)"
   ]
  },
  {
   "cell_type": "code",
   "execution_count": 49,
   "metadata": {},
   "outputs": [
    {
     "name": "stdout",
     "output_type": "stream",
     "text": [
      "False\n",
      "True\n"
     ]
    }
   ],
   "source": [
    "# indentity operators\n",
    "# is ------> same element\n",
    "# is not\n",
    "x=[1,2,3,4]\n",
    "y=[2,3,5]\n",
    "print(x is y)\n",
    "print(x is not y)"
   ]
  },
  {
   "cell_type": "code",
   "execution_count": 53,
   "metadata": {},
   "outputs": [
    {
     "data": {
      "text/plain": [
       "True"
      ]
     },
     "execution_count": 53,
     "metadata": {},
     "output_type": "execute_result"
    }
   ],
   "source": [
    "# membership operators\n",
    "# in \n",
    "# not in\n",
    "x=[1,2,3,4]\n",
    "y=[2,3,5]\n",
    "2 in x\n",
    "4 in y\n",
    "4 not in y"
   ]
  },
  {
   "cell_type": "markdown",
   "metadata": {},
   "source": [
    "# data type"
   ]
  },
  {
   "cell_type": "code",
   "execution_count": 3,
   "metadata": {},
   "outputs": [
    {
     "name": "stdout",
     "output_type": "stream",
     "text": [
      "how\n",
      "are\n",
      "you?\n",
      "hi, how are you?\n",
      "I am great, how are you Doing\n",
      "alhamdulilah, i am good too\n"
     ]
    }
   ],
   "source": [
    "# text = string\n",
    "from tracemalloc import DomainFilter\n",
    "from xml.dom import DomstringSizeErr\n",
    "\n",
    "\n",
    "x='how'\n",
    "print(x)\n",
    "y=\"are\"\n",
    "print(y)\n",
    "z='you?'\n",
    "print(z)\n",
    "# multiline string\n",
    "a='''hi, how are you?\n",
    "I am great, how are you Doing \n",
    "alhamdulilah, i am good too'''\n",
    "print(a)"
   ]
  },
  {
   "cell_type": "code",
   "execution_count": 4,
   "metadata": {},
   "outputs": [
    {
     "name": "stdout",
     "output_type": "stream",
     "text": [
      "<class 'int'>\n",
      "<class 'float'>\n",
      "<class 'complex'>\n"
     ]
    }
   ],
   "source": [
    "# Numeric data type\n",
    "# int, float, complex\n",
    "a=2\n",
    "print(type(a))\n",
    "b=4.3232\n",
    "print(type(b))\n",
    "c=3j\n",
    "print(type(c))"
   ]
  },
  {
   "cell_type": "code",
   "execution_count": 2,
   "metadata": {},
   "outputs": [
    {
     "name": "stdout",
     "output_type": "stream",
     "text": [
      "[2, 5, 6, 7]\n",
      "(2, 4, 6, 7)\n",
      "{'name': 'roshni', 'age': 26}\n"
     ]
    }
   ],
   "source": [
    "# sequence data type\n",
    "# list, tuple, dictionary\n",
    "a=[2,5,6,7]                  \n",
    "print(a)\n",
    "t=(2,4,6,7)\n",
    "print(t)\n",
    "d={'name':'roshni','age':26}\n",
    "print(d)"
   ]
  },
  {
   "cell_type": "code",
   "execution_count": 39,
   "metadata": {},
   "outputs": [
    {
     "name": "stdout",
     "output_type": "stream",
     "text": [
      "[8, 0, 67, 8, 2, 5, 6, 7]\n",
      "[2, 'hi', 6, 7]\n"
     ]
    }
   ],
   "source": [
    "# list method\n",
    "# a.append(0)\n",
    "# print(a)\n",
    "# a.insert(1,9)\n",
    "# print(a)\n",
    "# a.pop(1)                             #delete index number\n",
    "# print(a)\n",
    "# a.copy()\n",
    "# print(a)\n",
    "# a.remove(2)                         \n",
    "# print(a)\n",
    "# a.clear()\n",
    "# print(a)\n",
    "a.index(5)\n",
    "b=[8,0,67,8]\n",
    "b.extend(a)                        #merge two list\n",
    "print(b)\n",
    "a[1]='hi'\n",
    "print(a)"
   ]
  },
  {
   "cell_type": "code",
   "execution_count": 16,
   "metadata": {},
   "outputs": [
    {
     "name": "stdout",
     "output_type": "stream",
     "text": [
      "2\n",
      "None\n",
      "dict_items([('age', 26), ('nu', 234)])\n",
      "age\n",
      "nu\n"
     ]
    }
   ],
   "source": [
    "# tupple method\n",
    "t.count(2)\n",
    "t.index(4)\n",
    "\n",
    "\n",
    "# dictionary method\n",
    "print(len(d))\n",
    "print(d.get('name'))                     #get the value of key\n",
    "print(d.items())\n",
    "# i=d.update({'nu':234})\n",
    "d.keys()\n",
    "# d.pop('')\n",
    "d\n",
    "# loop\n",
    "for x in d.keys():\n",
    "    print(x)"
   ]
  },
  {
   "cell_type": "code",
   "execution_count": 6,
   "metadata": {},
   "outputs": [
    {
     "data": {
      "text/plain": [
       "False"
      ]
     },
     "execution_count": 6,
     "metadata": {},
     "output_type": "execute_result"
    }
   ],
   "source": [
    "# boolean type     (true or false)\n",
    "10>3\n",
    "10<3\n",
    "10==10\n",
    "10!=10\n",
    "10>=9\n",
    "10<=9"
   ]
  },
  {
   "cell_type": "code",
   "execution_count": 11,
   "metadata": {},
   "outputs": [
    {
     "data": {
      "text/plain": [
       "frozenset({2, 3, 4543})"
      ]
     },
     "execution_count": 11,
     "metadata": {},
     "output_type": "execute_result"
    }
   ],
   "source": [
    "# set data type\n",
    "# set, frozenset\n",
    "set={2,3,4543}\n",
    "f=frozenset(set)                 #immutable \n",
    "f"
   ]
  },
  {
   "cell_type": "code",
   "execution_count": 27,
   "metadata": {},
   "outputs": [
    {
     "name": "stdout",
     "output_type": "stream",
     "text": [
      "8\n",
      "4543\n"
     ]
    },
    {
     "data": {
      "text/plain": [
       "{4}"
      ]
     },
     "execution_count": 27,
     "metadata": {},
     "output_type": "execute_result"
    }
   ],
   "source": [
    "# set methods\n",
    "set.add(8)\n",
    "for x in set:\n",
    "    print(x)\n",
    "\n",
    "# set.remove(3)\n",
    "\n",
    "s1={3,4,7,65}\n",
    "s2={2,0,4,1,5}\n",
    "u=s1.union(s2)\n",
    "d=s1.difference(s2)\n",
    "i=s1.intersection(s2)\n",
    "i"
   ]
  },
  {
   "cell_type": "markdown",
   "metadata": {},
   "source": [
    "# type conversion (Casting)"
   ]
  },
  {
   "cell_type": "code",
   "execution_count": 32,
   "metadata": {},
   "outputs": [
    {
     "name": "stdout",
     "output_type": "stream",
     "text": [
      "1\n",
      "2.0\n"
     ]
    },
    {
     "data": {
      "text/plain": [
       "'2'"
      ]
     },
     "execution_count": 32,
     "metadata": {},
     "output_type": "execute_result"
    }
   ],
   "source": [
    "a=int(1.2)\n",
    "print(a)\n",
    "b=float(2)\n",
    "print(b)\n",
    "c=str('2')\n",
    "c"
   ]
  },
  {
   "cell_type": "markdown",
   "metadata": {},
   "source": [
    "# Conditions if  elif  else"
   ]
  },
  {
   "cell_type": "code",
   "execution_count": 2,
   "metadata": {},
   "outputs": [
    {
     "name": "stdout",
     "output_type": "stream",
     "text": [
      "ali will not go to school\n"
     ]
    }
   ],
   "source": [
    "required_Age=5\n",
    "ali_age=4\n",
    "# question: will ali go to school according to requirement of age?\n",
    "if ali_age == required_Age:\n",
    "    print('ali will go to school')\n",
    "else:\n",
    "    print('ali will not go to school')"
   ]
  },
  {
   "cell_type": "code",
   "execution_count": 6,
   "metadata": {},
   "outputs": [
    {
     "name": "stdout",
     "output_type": "stream",
     "text": [
      "ok no worries, 1st choose your choice before applying\n"
     ]
    }
   ],
   "source": [
    "user=input('write your favourite subject')\n",
    "if user == 'math':\n",
    "    print('you should apply for engineer')\n",
    "elif user == 'bio':\n",
    "    print('you should apply for medical')\n",
    "elif user =='english':\n",
    "    print('you should give IELTS')\n",
    "elif user=='drawing':\n",
    "    print('you should do graphics designing')\n",
    "else:\n",
    "    print('ok no worries, 1st choose your choice before applying')\n",
    "    "
   ]
  },
  {
   "cell_type": "markdown",
   "metadata": {},
   "source": [
    "# loops"
   ]
  },
  {
   "cell_type": "code",
   "execution_count": 5,
   "metadata": {},
   "outputs": [
    {
     "name": "stdout",
     "output_type": "stream",
     "text": [
      "23\n",
      "435\n",
      "89\n",
      "9\n",
      "3\n",
      "4\n"
     ]
    }
   ],
   "source": [
    "list=[23,435,89,9,3,4]\n",
    "for i in list:\n",
    "    print(i)"
   ]
  },
  {
   "cell_type": "code",
   "execution_count": 9,
   "metadata": {},
   "outputs": [
    {
     "name": "stdout",
     "output_type": "stream",
     "text": [
      "sorry\n",
      "you are on the right point\n",
      "sorry\n"
     ]
    }
   ],
   "source": [
    "for i in list:\n",
    "    if i == 435:\n",
    "        print('you are on the right point')\n",
    "    else:\n",
    "        print('sorry')"
   ]
  },
  {
   "cell_type": "code",
   "execution_count": 14,
   "metadata": {},
   "outputs": [
    {
     "name": "stdout",
     "output_type": "stream",
     "text": [
      "0\n",
      "1\n",
      "2\n",
      "3\n"
     ]
    }
   ],
   "source": [
    "for i in range(10):\n",
    "    if i == 4:\n",
    "        break\n",
    "    print(i)\n",
    "    "
   ]
  },
  {
   "cell_type": "code",
   "execution_count": 15,
   "metadata": {},
   "outputs": [
    {
     "name": "stdout",
     "output_type": "stream",
     "text": [
      "0\n",
      "1\n",
      "2\n",
      "3\n",
      "4\n",
      "5\n",
      "7\n",
      "8\n",
      "9\n"
     ]
    }
   ],
   "source": [
    "for i in range(10):\n",
    "    if i == 6:\n",
    "        continue\n",
    "    print(i)\n"
   ]
  },
  {
   "cell_type": "code",
   "execution_count": 16,
   "metadata": {},
   "outputs": [
    {
     "name": "stdout",
     "output_type": "stream",
     "text": [
      "0\n",
      "1\n",
      "2\n",
      "3\n",
      "4\n",
      "5\n",
      "6\n",
      "7\n",
      "8\n",
      "9\n"
     ]
    }
   ],
   "source": [
    "for i in range(10):\n",
    "    if i ==4:\n",
    "        pass\n",
    "    print(i)"
   ]
  },
  {
   "cell_type": "code",
   "execution_count": 11,
   "metadata": {},
   "outputs": [
    {
     "name": "stdout",
     "output_type": "stream",
     "text": [
      "0\n",
      "1\n",
      "2\n",
      "3\n",
      "4\n",
      "5\n",
      "6\n",
      "7\n",
      "8\n",
      "9\n"
     ]
    }
   ],
   "source": [
    "# task 1: Sum from 1 to 10 by using range function\n",
    "sum=1\n",
    "for sum in range(10):\n",
    "    print(sum)\n",
    "    sum=sum+1"
   ]
  },
  {
   "cell_type": "code",
   "execution_count": 3,
   "metadata": {},
   "outputs": [
    {
     "name": "stdout",
     "output_type": "stream",
     "text": [
      "credit your balance\n"
     ]
    }
   ],
   "source": [
    "# atm machine\n",
    "balance = 5000\n",
    "user=int(input('what do you want? type 1 for balance checking, type 2 for debit , type 3 for credit'))\n",
    "if user==1:\n",
    "    print('your balance is',balance)\n",
    "elif user == 2:\n",
    "    print('credit your balance')\n",
    "elif user==3:\n",
    "    print('debit your balance ')\n"
   ]
  },
  {
   "cell_type": "code",
   "execution_count": 6,
   "metadata": {},
   "outputs": [
    {
     "name": "stdout",
     "output_type": "stream",
     "text": [
      "1\n",
      "2\n",
      "3\n",
      "4\n",
      "5\n",
      "6\n",
      "7\n",
      "8\n",
      "9\n",
      "10\n",
      "condition is satisfied\n"
     ]
    }
   ],
   "source": [
    "a=1\n",
    "while a<=10:\n",
    "    print(a)\n",
    "    a+=1\n",
    "else:\n",
    "    print('condition is satisfied')"
   ]
  },
  {
   "cell_type": "code",
   "execution_count": 7,
   "metadata": {},
   "outputs": [
    {
     "name": "stdout",
     "output_type": "stream",
     "text": [
      "2\n",
      "3\n",
      "4\n",
      "5\n"
     ]
    }
   ],
   "source": [
    "i=2\n",
    "while i<=12:\n",
    "    if i == 6:\n",
    "        break\n",
    "    print(i)\n",
    "    i+=1"
   ]
  },
  {
   "cell_type": "markdown",
   "metadata": {},
   "source": [
    "# Function"
   ]
  },
  {
   "cell_type": "code",
   "execution_count": 6,
   "metadata": {},
   "outputs": [
    {
     "name": "stdout",
     "output_type": "stream",
     "text": [
      "145\n"
     ]
    }
   ],
   "source": [
    "def data(a,b):\n",
    "    print(a+b)\n",
    "data(56,89)"
   ]
  },
  {
   "cell_type": "code",
   "execution_count": 8,
   "metadata": {},
   "outputs": [
    {
     "name": "stdout",
     "output_type": "stream",
     "text": [
      "hello ali\n",
      "salam roshni\n"
     ]
    }
   ],
   "source": [
    "# fixed arguments\n",
    "def schl(std,tch):\n",
    "    print('hello',std)\n",
    "    print('salam',tch)\n",
    "schl('ali','roshni')"
   ]
  },
  {
   "cell_type": "code",
   "execution_count": 10,
   "metadata": {},
   "outputs": [
    {
     "name": "stdout",
     "output_type": "stream",
     "text": [
      "7 10\n"
     ]
    }
   ],
   "source": [
    "# default argument\n",
    "def fun(a,b=10):\n",
    "    print(a,b)\n",
    "fun(7)"
   ]
  },
  {
   "cell_type": "code",
   "execution_count": 11,
   "metadata": {},
   "outputs": [
    {
     "name": "stdout",
     "output_type": "stream",
     "text": [
      "(1, 3, 5, 6, 6)\n"
     ]
    }
   ],
   "source": [
    "# Args: arbitary argument or non-keyword\n",
    "def key(*value):\n",
    "    print(value)\n",
    "key(1,3,5,6,6)"
   ]
  },
  {
   "cell_type": "code",
   "execution_count": 12,
   "metadata": {},
   "outputs": [
    {
     "name": "stdout",
     "output_type": "stream",
     "text": [
      "{'name': 'roshni', 'age': 34}\n"
     ]
    }
   ],
   "source": [
    "# kwargs: keyword argument\n",
    "def key(**values):\n",
    "    print(values)\n",
    "key(name='roshni',age=34)"
   ]
  },
  {
   "cell_type": "code",
   "execution_count": 1,
   "metadata": {},
   "outputs": [
    {
     "name": "stdout",
     "output_type": "stream",
     "text": [
      "12\n",
      "10\n"
     ]
    }
   ],
   "source": [
    "a=10                                            #global variable\n",
    "def fun():\n",
    "    a=12                                       #local variable\n",
    "    print(a) \n",
    "fun()\n",
    "\n",
    "\n",
    "\n",
    "print(a)"
   ]
  },
  {
   "cell_type": "code",
   "execution_count": 9,
   "metadata": {},
   "outputs": [
    {
     "name": "stdout",
     "output_type": "stream",
     "text": [
      "The factorial of 10 is :  3628800\n"
     ]
    }
   ],
   "source": [
    "# factorial through loop\n",
    "n = 10\n",
    "f = 1\n",
    "  \n",
    "for i in range(1,n+1):\n",
    "    f = f * i\n",
    "      \n",
    "print (\"The factorial of 10 is : \",f)"
   ]
  },
  {
   "cell_type": "code",
   "execution_count": 12,
   "metadata": {},
   "outputs": [
    {
     "name": "stdout",
     "output_type": "stream",
     "text": [
      "1\n",
      "2\n",
      "6\n",
      "24\n",
      "120\n",
      "720\n",
      "5040\n",
      "40320\n",
      "362880\n",
      "3628800\n"
     ]
    }
   ],
   "source": [
    "# through function\n",
    "def fact(f):\n",
    "    n=10\n",
    "    for i in range(1,n+1):\n",
    "        f=f*i\n",
    "        print(f)\n",
    "fact(1)"
   ]
  },
  {
   "cell_type": "code",
   "execution_count": 6,
   "metadata": {},
   "outputs": [
    {
     "data": {
      "text/plain": [
       "3628800"
      ]
     },
     "execution_count": 6,
     "metadata": {},
     "output_type": "execute_result"
    }
   ],
   "source": [
    "# factorial through math \n",
    "import math\n",
    "math.factorial(10)"
   ]
  },
  {
   "cell_type": "markdown",
   "metadata": {},
   "source": [
    "# Module\n"
   ]
  },
  {
   "cell_type": "code",
   "execution_count": 20,
   "metadata": {},
   "outputs": [
    {
     "data": {
      "text/plain": [
       "0.8939966636005579"
      ]
     },
     "execution_count": 20,
     "metadata": {},
     "output_type": "execute_result"
    }
   ],
   "source": [
    "# math \n",
    "import math\n",
    "math.cos(90)\n",
    "math.tan(10)\n",
    "math.sin(90)\n"
   ]
  },
  {
   "cell_type": "code",
   "execution_count": 31,
   "metadata": {},
   "outputs": [
    {
     "name": "stdout",
     "output_type": "stream",
     "text": [
      "abcdefghijklmnopqrstuvwxyzABCDEFGHIJKLMNOPQRSTUVWXYZ\n",
      "0123456789\n",
      "ABCDEFGHIJKLMNOPQRSTUVWXYZ\n",
      "abcdefghijklmnopqrstuvwxyz\n",
      "0123456789abcdefABCDEF\n",
      "!\"#$%&'()*+,-./:;<=>?@[\\]^_`{|}~\n",
      " \t\n",
      "\u000b\f\n",
      "<function capwords at 0x000001752EC731C0>\n"
     ]
    }
   ],
   "source": [
    "# string\n",
    "import string as st\n",
    "print(st.ascii_letters)\n",
    "print(st.digits)\n",
    "print(st.ascii_uppercase)\n",
    "print(st.ascii_lowercase)\n",
    "print(st.hexdigits)\n",
    "print(st.punctuation)\n",
    "print(st.whitespace)\n"
   ]
  },
  {
   "cell_type": "code",
   "execution_count": 43,
   "metadata": {},
   "outputs": [
    {
     "name": "stdout",
     "output_type": "stream",
     "text": [
      "Sat Oct 29 14:28:25 2022\n",
      "time.struct_time(tm_year=2022, tm_mon=10, tm_mday=29, tm_hour=21, tm_min=28, tm_sec=25, tm_wday=5, tm_yday=302, tm_isdst=0)\n"
     ]
    }
   ],
   "source": [
    "# time \n",
    "from time import ctime,time, gmtime, strftime\n",
    "t=time()\n",
    "print(ctime(t))\n",
    "print(gmtime(t))\n",
    "\n"
   ]
  }
 ],
 "metadata": {
  "kernelspec": {
   "display_name": "Python 3.10.7 64-bit",
   "language": "python",
   "name": "python3"
  },
  "language_info": {
   "codemirror_mode": {
    "name": "ipython",
    "version": 3
   },
   "file_extension": ".py",
   "mimetype": "text/x-python",
   "name": "python",
   "nbconvert_exporter": "python",
   "pygments_lexer": "ipython3",
   "version": "3.10.7"
  },
  "orig_nbformat": 4,
  "vscode": {
   "interpreter": {
    "hash": "a9cff5a362bc38ef45d817ae74b1af54d6a076e3d773891282bce078b815ba34"
   }
  }
 },
 "nbformat": 4,
 "nbformat_minor": 2
}
