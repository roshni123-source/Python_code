{
 "cells": [
  {
   "cell_type": "markdown",
   "metadata": {},
   "source": [
    "# OOPs"
   ]
  },
  {
   "cell_type": "markdown",
   "metadata": {},
   "source": [
    "Paradigm programming : it is a way to solve problems in programming langauge.\n",
    "it has two types:\n",
    "1. Imperative programming\n",
    "2. declarative programming\n",
    "Imperative programming describes how program is executed in step by step.\n",
    "Imperative programming has 3 types:\n",
    "1. Procedural programming\n",
    "2. Object Oriented programming\n",
    "3. structural Programming\n",
    "\n",
    "\n",
    "Declarative programming describes what program to be executed for final answer.\n",
    "Declarative programming has 2 types:\n",
    "1. Functional programming \n",
    "2. logic programming\n",
    "\n",
    "# Python works on Procedural, object oriented programming paradigms"
   ]
  },
  {
   "cell_type": "code",
   "execution_count": 5,
   "metadata": {},
   "outputs": [
    {
     "name": "stdout",
     "output_type": "stream",
     "text": [
      "engineer code very easily\n",
      "engineer writing is not good\n"
     ]
    }
   ],
   "source": [
    "# class and object\n",
    "class engineer:\n",
    "    def write(self):\n",
    "        print('engineer writing is not good')\n",
    "    def code(self):\n",
    "        print('engineer code very easily')\n",
    "e1=engineer()\n",
    "e1.code()\n",
    "e1.write()\n",
    "\n"
   ]
  },
  {
   "cell_type": "code",
   "execution_count": 7,
   "metadata": {},
   "outputs": [
    {
     "name": "stdout",
     "output_type": "stream",
     "text": [
      "computer is very smart nowdays\n",
      "cpu is the main part of computer\n",
      "keyboard is used to type in computer\n"
     ]
    }
   ],
   "source": [
    "# Constructor\n",
    "class computer:\n",
    "    def __init__(self):\n",
    "        print('computer is very smart nowdays')\n",
    "    def cpu(self):\n",
    "        print('cpu is the main part of computer')\n",
    "    def keyboard(self):\n",
    "        print('keyboard is used to type in computer')\n",
    "com1=computer()\n",
    "com1.cpu()\n",
    "com1.keyboard()\n"
   ]
  },
  {
   "cell_type": "code",
   "execution_count": 10,
   "metadata": {},
   "outputs": [
    {
     "name": "stdout",
     "output_type": "stream",
     "text": [
      "human walks\n",
      "human plays\n"
     ]
    }
   ],
   "source": [
    "class human:\n",
    "    def __init__(self,name,age):\n",
    "        self.name=name\n",
    "        self.age=age\n",
    "    def walk(self):\n",
    "        print('human walks')\n",
    "    def play(self):\n",
    "        print('human plays')\n",
    "h1=human('name',26)\n",
    "h1.walk()\n",
    "h1.play()\n"
   ]
  },
  {
   "cell_type": "code",
   "execution_count": 12,
   "metadata": {},
   "outputs": [
    {
     "name": "stdout",
     "output_type": "stream",
     "text": [
      "parent color is white\n",
      "parent height is too large\n",
      "child leanrning power is very satisfactory\n",
      "talking power is average\n",
      "parent color is white\n",
      "parent height is too large\n"
     ]
    }
   ],
   "source": [
    "# inheritance\n",
    "class parent:\n",
    "    def color(self):\n",
    "        print('parent color is white')\n",
    "    def height(self):\n",
    "        print('parent height is too large')\n",
    "class child(parent):\n",
    "    def learning(self):\n",
    "        print('child leanrning power is very satisfactory')\n",
    "    def talking(self):\n",
    "        print('talking power is average')\n",
    "\n",
    "\n",
    "p1=parent()\n",
    "ch1=child()\n",
    "p1.color()\n",
    "p1.height()\n",
    "ch1.learning()\n",
    "ch1.talking()\n",
    "ch1.color()\n",
    "ch1.height()"
   ]
  },
  {
   "cell_type": "code",
   "execution_count": null,
   "metadata": {},
   "outputs": [],
   "source": []
  },
  {
   "cell_type": "code",
   "execution_count": 13,
   "metadata": {},
   "outputs": [],
   "source": [
    "# method overriding: same methods or functions but different parameters\n",
    "class parent:\n",
    "    def color(self, white,dark):\n",
    "        print('parent color is white')\n",
    "\n",
    "\n",
    " \n",
    "class child:\n",
    "    def color(self,average):\n",
    "        print('child color is average')\n",
    "    \n",
    "\n",
    "# method overloading: same methods or functions as well as paramenters\n",
    "\n",
    "class parent:\n",
    "    def height(self,small,tall):\n",
    "        print('parent height is tall')\n",
    "\n",
    "class  child:\n",
    "    def height(self, small, tall):\n",
    "        print('child height is too small')\n",
    "\n",
    "\n"
   ]
  },
  {
   "cell_type": "code",
   "execution_count": 15,
   "metadata": {},
   "outputs": [
    {
     "name": "stdout",
     "output_type": "stream",
     "text": [
      "students learn in school\n",
      "students learn in college\n",
      "students learn in uni\n"
     ]
    }
   ],
   "source": [
    "# polymorphism\n",
    "\n",
    "class study:\n",
    "    def learn(self):\n",
    "        print('students learn in school')\n",
    "    def read(self):\n",
    "        print('students reads in school')\n",
    "\n",
    "class college(study):\n",
    "    def learn(self):\n",
    "        print('students learn in college')\n",
    "    def read(self):\n",
    "        print('students reads in college')\n",
    "class uni(study):\n",
    "    def learn(self):\n",
    "        print('students learn in uni')\n",
    "    def read(self):\n",
    "        print('students reads in uni')\n",
    "\n",
    "s=study()\n",
    "c=college()\n",
    "u=uni()\n",
    "s.learn()\n",
    "c.learn()\n",
    "u.learn()\n",
    "\n"
   ]
  },
  {
   "cell_type": "code",
   "execution_count": 18,
   "metadata": {},
   "outputs": [
    {
     "name": "stdout",
     "output_type": "stream",
     "text": [
      "science type\n",
      "charts in science\n",
      "biology\n"
     ]
    }
   ],
   "source": [
    "# Encapsulation through protected member (single underscore) and private member(double underscore)\n",
    "\n",
    "\n",
    "class science:\n",
    "    _name='biology'                                  #name is protected member and it can't be access outside the class\n",
    "    def pics(self):\n",
    "        print('science type')\n",
    "    def charts(self):\n",
    "        print('charts in science')\n",
    "s1=science()\n",
    "s1.pics()\n",
    "s1.charts()\n",
    "print(s1._name)                                  # protected member can be printed but not access\n"
   ]
  },
  {
   "cell_type": "code",
   "execution_count": 21,
   "metadata": {},
   "outputs": [
    {
     "name": "stdout",
     "output_type": "stream",
     "text": [
      "science type\n",
      "charts in science\n",
      "biology\n"
     ]
    }
   ],
   "source": [
    "# private member\n",
    "class science:\n",
    "    __name='biology'                                      #private member \n",
    "    def pics(self):\n",
    "        print('science type')\n",
    "\n",
    "    def charts(self):\n",
    "        print('charts in science')\n",
    "\n",
    "\n",
    "s1=science()\n",
    "s1.pics()\n",
    "s1.charts()\n",
    "# print(s1.__name)    # can't be printed\n",
    "print(s1._science__name)          #can be access through class name                            \n"
   ]
  },
  {
   "cell_type": "markdown",
   "metadata": {},
   "source": [
    "# Data Structure"
   ]
  },
  {
   "cell_type": "code",
   "execution_count": 28,
   "metadata": {},
   "outputs": [
    {
     "name": "stdout",
     "output_type": "stream",
     "text": [
      "1\n",
      "2\n",
      "3\n"
     ]
    }
   ],
   "source": [
    "# Array\n",
    "import numpy as np\n",
    "a=np.array([10,8,1])\n",
    "print(a.ndim)\n",
    "\n",
    "b=np.array([[1,2,3],[5,7,8]])\n",
    "print(b.ndim)\n",
    "\n",
    "c=np.array([[[1,7,9],[2,8,5],[0,7,4]]])\n",
    "print(c.ndim)"
   ]
  },
  {
   "cell_type": "code",
   "execution_count": 44,
   "metadata": {},
   "outputs": [
    {
     "name": "stdout",
     "output_type": "stream",
     "text": [
      "(3,)\n",
      "[10  8  1]\n",
      "10\n",
      "3\n",
      "5\n"
     ]
    },
    {
     "data": {
      "text/plain": [
       "array([10,  1])"
      ]
     },
     "execution_count": 44,
     "metadata": {},
     "output_type": "execute_result"
    }
   ],
   "source": [
    "# Array methods\n",
    "print(a.shape)                      # 3 elements\n",
    "print(a.copy())\n",
    "print(a[0])\n",
    "print(b[0,2])\n",
    "print(c[0,1,2])\n",
    "np.append(a,[3,4])                #add value in array \n",
    "np.append(b,[[23,6,5],[9,0,1]])\n",
    "np.append(c,[[[1,8],[3,4],[4,5]]])  \n",
    "np.delete(a,[1])                     #delete the items \n"
   ]
  },
  {
   "cell_type": "code",
   "execution_count": 2,
   "metadata": {},
   "outputs": [
    {
     "name": "stdout",
     "output_type": "stream",
     "text": [
      "1 2 3 "
     ]
    }
   ],
   "source": [
    "# Linked Listed\n",
    "\n",
    "class Node:\n",
    "    # Creating a node\n",
    "    def __init__(self, data):\n",
    "        self.data = data\n",
    "        self.next = None\n",
    "\n",
    "\n",
    "class LinkedList:\n",
    "\n",
    "    def __init__(self):\n",
    "        self.head = None\n",
    "\n",
    "\n",
    "if __name__ == '__main__':\n",
    "\n",
    "    linked_list = LinkedList()\n",
    "\n",
    "    # Assign item values\n",
    "    linked_list.head = Node(1)\n",
    "    second = Node(2)\n",
    "    third = Node(3)\n",
    "\n",
    "    # Connect nodes\n",
    "    linked_list.head.next = second\n",
    "    second.next = third\n",
    "\n",
    "    # Print the linked list item\n",
    "    while linked_list.head != None:\n",
    "        print(linked_list.head.data, end=\" \")\n",
    "        linked_list.head = linked_list.head.next\n"
   ]
  },
  {
   "cell_type": "code",
   "execution_count": 11,
   "metadata": {},
   "outputs": [
    {
     "name": "stdout",
     "output_type": "stream",
     "text": [
      "[1, 2, 4, 8, 9]\n",
      "9\n"
     ]
    },
    {
     "data": {
      "text/plain": [
       "1"
      ]
     },
     "execution_count": 11,
     "metadata": {},
     "output_type": "execute_result"
    }
   ],
   "source": [
    "# create stack through collections\n",
    "# LIFO last in first out\n",
    "stack=[]\n",
    "stack.append(1)\n",
    "stack.append(2)\n",
    "stack.append(4)\n",
    "stack.append(8)\n",
    "stack.append(9)\n",
    "print(stack)\n",
    "print(stack.pop())                             \n",
    "stack.count(4)"
   ]
  },
  {
   "cell_type": "code",
   "execution_count": 12,
   "metadata": {},
   "outputs": [
    {
     "name": "stdout",
     "output_type": "stream",
     "text": [
      "False\n",
      "7\n",
      "5\n",
      "4\n"
     ]
    }
   ],
   "source": [
    "# create stack through queue\n",
    "import queue as q\n",
    "s=q.LifoQueue()\n",
    "# add element through put element\n",
    "\n",
    "# print(s.put(5))\n",
    "s.put(4)\n",
    "s.put(5)\n",
    "s.put(7)\n",
    "# s.get()\n",
    "print(s.full())\n",
    "print(s.get())\n",
    "print(s.get())\n",
    "print(s.get())"
   ]
  },
  {
   "cell_type": "code",
   "execution_count": 13,
   "metadata": {},
   "outputs": [
    {
     "name": "stdout",
     "output_type": "stream",
     "text": [
      "False\n",
      "4\n",
      "5\n",
      "7\n"
     ]
    }
   ],
   "source": [
    "# create priorty queue\n",
    "import queue as q\n",
    "p=q.PriorityQueue()\n",
    "p.put(4)\n",
    "p.put(5)\n",
    "p.put(7)\n",
    "# s.get()\n",
    "print(p.full())\n",
    "print(p.get())\n",
    "print(p.get())\n",
    "print(p.get())"
   ]
  },
  {
   "cell_type": "code",
   "execution_count": 30,
   "metadata": {},
   "outputs": [
    {
     "data": {
      "text/plain": [
       "0"
      ]
     },
     "execution_count": 30,
     "metadata": {},
     "output_type": "execute_result"
    }
   ],
   "source": [
    "# Heap \n",
    "import heapq as hp\n",
    "li=[1,2,7,0,3,78,90]\n",
    "hp.heapify(li)\n",
    "hp.heappop(li)"
   ]
  },
  {
   "cell_type": "markdown",
   "metadata": {},
   "source": [
    "# Comprehensions "
   ]
  },
  {
   "cell_type": "code",
   "execution_count": 48,
   "metadata": {},
   "outputs": [
    {
     "data": {
      "text/plain": [
       "[0, 1, 4, 9, 16, 25, 36, 49, 64, 81]"
      ]
     },
     "execution_count": 48,
     "metadata": {},
     "output_type": "execute_result"
    }
   ],
   "source": [
    "# list comprehensions\n",
    "# create list of number by using loop in one line of code\n",
    "list= [i**2 for i in range(10)]\n",
    "list"
   ]
  },
  {
   "cell_type": "code",
   "execution_count": 38,
   "metadata": {},
   "outputs": [
    {
     "data": {
      "text/plain": [
       "[0, 3, 6, 9]"
      ]
     },
     "execution_count": 38,
     "metadata": {},
     "output_type": "execute_result"
    }
   ],
   "source": [
    "# write a program which print list of 100 numbers start from 0, end with 100 and exclude 3 numbers after every iteration\n",
    "li= [i for i in range(100) if i%3==0 ]\n",
    "li"
   ]
  },
  {
   "cell_type": "code",
   "execution_count": 44,
   "metadata": {},
   "outputs": [
    {
     "data": {
      "text/plain": [
       "{0: 'product(1)',\n",
       " 1: 'product(1)',\n",
       " 2: 'product(1)',\n",
       " 3: 'product(1)',\n",
       " 4: 'product(1)',\n",
       " 5: 'product(1)',\n",
       " 6: 'product(1)',\n",
       " 7: 'product(1)',\n",
       " 8: 'product(1)',\n",
       " 9: 'product(1)'}"
      ]
     },
     "execution_count": 44,
     "metadata": {},
     "output_type": "execute_result"
    }
   ],
   "source": [
    "# Dictionary Comprehensions\n",
    "dic={i:f\"product(1)\" for i in range(10)}\n",
    "dic"
   ]
  },
  {
   "cell_type": "code",
   "execution_count": 47,
   "metadata": {},
   "outputs": [
    {
     "data": {
      "text/plain": [
       "{1: 'product(1)',\n",
       " 4: 'product(1)',\n",
       " 7: 'product(1)',\n",
       " 10: 'product(1)',\n",
       " 13: 'product(1)',\n",
       " 16: 'product(1)',\n",
       " 19: 'product(1)'}"
      ]
     },
     "execution_count": 47,
     "metadata": {},
     "output_type": "execute_result"
    }
   ],
   "source": [
    "dic1={i:f\"product(1)\" for i in range(20) if i%3==1}\n",
    "dic1"
   ]
  },
  {
   "cell_type": "code",
   "execution_count": 49,
   "metadata": {},
   "outputs": [
    {
     "data": {
      "text/plain": [
       "{'roshni': 'bathoro',\n",
       " 'mehak': 'hyd',\n",
       " 'alisha': 'sukkr',\n",
       " 'laraib': 'karachi',\n",
       " 'lucky': 'larkana'}"
      ]
     },
     "execution_count": 49,
     "metadata": {},
     "output_type": "execute_result"
    }
   ],
   "source": [
    "name=['roshni','mehak','alisha','laraib','lucky']\n",
    "city=['bathoro','hyd','sukkr','karachi','larkana']\n",
    "dic={key:value for (key,value) in zip(name,city)}\n",
    "dic"
   ]
  },
  {
   "cell_type": "code",
   "execution_count": 51,
   "metadata": {},
   "outputs": [
    {
     "data": {
      "text/plain": [
       "{0, 1, 2, 3, 4, 5, 6, 7, 8, 9}"
      ]
     },
     "execution_count": 51,
     "metadata": {},
     "output_type": "execute_result"
    }
   ],
   "source": [
    "# set comprehensions\n",
    "set={i for i in range(10)}\n",
    "set"
   ]
  },
  {
   "cell_type": "code",
   "execution_count": 53,
   "metadata": {},
   "outputs": [
    {
     "data": {
      "text/plain": [
       "{0, 1, 2, 3, 8, 9, 10, 11, 16, 17, 18, 19}"
      ]
     },
     "execution_count": 53,
     "metadata": {},
     "output_type": "execute_result"
    }
   ],
   "source": [
    "set1={i for i in range(20) if i&4==0}\n",
    "set1"
   ]
  },
  {
   "cell_type": "code",
   "execution_count": 55,
   "metadata": {},
   "outputs": [
    {
     "data": {
      "text/plain": [
       "{0, 1, 2, 3, 4, 5, 6, 7, 8}"
      ]
     },
     "execution_count": 55,
     "metadata": {},
     "output_type": "execute_result"
    }
   ],
   "source": [
    "s={0,8,3,4,5,6,7,2,1}\n",
    "se={i for i in s}\n",
    "se"
   ]
  },
  {
   "cell_type": "code",
   "execution_count": null,
   "metadata": {},
   "outputs": [],
   "source": []
  }
 ],
 "metadata": {
  "kernelspec": {
   "display_name": "Python 3.10.7 64-bit",
   "language": "python",
   "name": "python3"
  },
  "language_info": {
   "codemirror_mode": {
    "name": "ipython",
    "version": 3
   },
   "file_extension": ".py",
   "mimetype": "text/x-python",
   "name": "python",
   "nbconvert_exporter": "python",
   "pygments_lexer": "ipython3",
   "version": "3.10.7"
  },
  "orig_nbformat": 4,
  "vscode": {
   "interpreter": {
    "hash": "a9cff5a362bc38ef45d817ae74b1af54d6a076e3d773891282bce078b815ba34"
   }
  }
 },
 "nbformat": 4,
 "nbformat_minor": 2
}
